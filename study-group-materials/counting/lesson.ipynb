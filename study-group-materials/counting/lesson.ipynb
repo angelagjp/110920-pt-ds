{
 "cells": [
  {
   "cell_type": "code",
   "execution_count": 1,
   "metadata": {
    "ExecuteTime": {
     "end_time": "2021-01-12T19:00:31.099018Z",
     "start_time": "2021-01-12T19:00:31.084591Z"
    }
   },
   "outputs": [],
   "source": [
    "# Setting grandparent directory\n",
    "# as an import path.\n",
    "import os\n",
    "import sys\n",
    "grandparent_directory = os.path.join(os.pardir, os.pardir)\n",
    "sys.path.append(grandparent_directory)\n",
    "\n",
    "from src.counting import flip, roll, DrawAMarble\n",
    "import pandas as pd\n",
    "import matplotlib.pyplot as plt"
   ]
  },
  {
   "cell_type": "markdown",
   "metadata": {},
   "source": [
    "# Probability"
   ]
  },
  {
   "cell_type": "markdown",
   "metadata": {},
   "source": [
    ">The formal methods of probability originated from mathematicians studying games of chance in the 17th century, though there is evidence that probabilistic and statistical methods were used by mathematicians as early as the beginning of the 8th century in the study of cryptology.\n",
    "\n",
    "**Probability theory is the study and analysis of random events.**\n",
    "\n",
    "Wikipedia describes random as: \n",
    "> \"A random sequence of events, symbols or steps often has no order and does not follow an intelligible pattern or combination. Individual random events are, by definition, unpredictable, but if the probability distribution is known, the frequency of different outcomes over repeated events (or \"trials\") is predictable.\"\n",
    "\n",
    "It is important to note that probability seeks to describe a collective experience and does not predict outcomes for individual events. The frequency of heads across multiple flips of a coin, or the life expectancy for a given age group are what probability seeks to quantify, and while probability offers a valuable framework for evaluating the likelihood of an individual event in comparison to a larger population, probability does not seek to determine an individual's lifespan or the outcome of a single coin flip. "
   ]
  },
  {
   "cell_type": "markdown",
   "metadata": {},
   "source": [
    "# Sets"
   ]
  },
  {
   "cell_type": "markdown",
   "metadata": {},
   "source": [
    "Sets are unordered collections of unique objects. Sets are represented as objects, separated by commas, and surrounded by curly brackets. Sets can be empty, meaning there are no possibilities (often denoted as ∅), and sets can be infinite, meaning there are infinite possibilities. \n",
    "\n",
    "<u>An example of an empty set:</u>\n",
    "- The set of all rolls of a die where the roll lands on a 4 and a 2. `{}`\n",
    "\n",
    "<u>An example of infinite set:</u>\n",
    "- The set of all even numbers\n",
    "> In instances of an infinite set, the entire set cannot be written. In cases such as this the set is usually presented as an equation `{2x | x = 1,2,3,...}`. This behaves similar to how a lambda function is written. `2x` is the output of the set, where x equals all integers.\n",
    "\n",
    "##### Set Notation\n",
    "\n",
    "Set logic is commonly used in mathematical notation. [Here](https://www.mathsisfun.com/sets/symbols.html) is a good resource for familiarizing yourself with set notation. I recommend making flashcards!\n",
    ">Take note that the visualization below and the resource linked above use different notation for set complements. This is a reality when it comes to mathematical notation. There is rarely true universal notation. While many symbols in mathematics and logic have some level of consensus surrounding their purpose, as is the case with code, there are many ways of describing or solving a problem. For this reason, it is common to see the same concept described multiple ways. If you see an equation you do not recognize, it could be because you are unfamiliar with the concept, but it could also be because whoever wrote the notation is using symbols differently than you would expect. Either way, you can make sense of the equation! It just might take a little effort.\n",
    "\n",
    "<u>Let's take a look at some examples of set notation:</u>\n",
    "\n",
    "--------\n",
    "\n",
    "<center><img src=\"../../static/set_operations.png\" style=\"width:800px\"></center>\n",
    "<center><i>Set Operations. Credit: <a href=\"https://www.onlinemathlearning.com/venn-diagrams.html\">Online Math Learning</a></i></center>\n",
    "\n",
    "-----"
   ]
  },
  {
   "cell_type": "markdown",
   "metadata": {},
   "source": [
    "## Sets in Python\n",
    "In Python, sets can be created by using the built in `set()` function or by using curly brackets `{}`  and seperating each value with commas `{1,2,3,4}`.\n",
    "\n",
    "Sets are particularly useful when we are trying to avoid duplicates while manipulating data. \n",
    "They also have methods that allow us to easily compare sets.\n",
    "\n",
    "<u>Let's take a look at some examples:</u>"
   ]
  },
  {
   "cell_type": "markdown",
   "metadata": {},
   "source": [
    "**Removing Duplicates**\n",
    "\n",
    "In the cell below, we use the `set` function to remove the duplicates from the `duplicates`."
   ]
  },
  {
   "cell_type": "code",
   "execution_count": 2,
   "metadata": {
    "ExecuteTime": {
     "end_time": "2021-01-12T19:09:41.687437Z",
     "start_time": "2021-01-12T19:09:41.682284Z"
    }
   },
   "outputs": [
    {
     "data": {
      "text/plain": [
       "['green', 'red', 'yellow', 'blue']"
      ]
     },
     "execution_count": 2,
     "metadata": {},
     "output_type": "execute_result"
    }
   ],
   "source": [
    "duplicates = ['yellow', 'yellow', 'green', 'green','blue', 'blue', 'red']\n",
    "set_without_duplicates = set(duplicates)\n",
    "list_without_duplicates = list(set_without_duplicates)\n",
    "list_without_duplicates"
   ]
  },
  {
   "cell_type": "markdown",
   "metadata": {},
   "source": [
    "**Creating the Union of two sets**\n",
    "<img src=\"../../static/union.png\" style=\"width:300px;\">\n",
    "In the cell below, we find the union set (all values) of two sets using the `.union()` method."
   ]
  },
  {
   "cell_type": "code",
   "execution_count": 3,
   "metadata": {
    "ExecuteTime": {
     "end_time": "2021-01-12T19:10:22.497325Z",
     "start_time": "2021-01-12T19:10:22.492625Z"
    }
   },
   "outputs": [
    {
     "data": {
      "text/plain": [
       "{'blue', 'brown', 'green', 'purple', 'red', 'yellow'}"
      ]
     },
     "execution_count": 3,
     "metadata": {},
     "output_type": "execute_result"
    }
   ],
   "source": [
    "A = {'yellow', 'green', 'brown'}\n",
    "B = {'blue', 'red', 'green', 'purple'}\n",
    "\n",
    "A_union_B = A.union(B)\n",
    "A_union_B"
   ]
  },
  {
   "cell_type": "markdown",
   "metadata": {},
   "source": [
    "**Creating the intersection of two sets**\n",
    "<img src=\"../../static/intersection.png\" style=\"width:300px;\">\n",
    "In the cell below, we find the intersection set (the common values) of two sets using the `.intersection()` method."
   ]
  },
  {
   "cell_type": "code",
   "execution_count": 4,
   "metadata": {
    "ExecuteTime": {
     "end_time": "2021-01-12T19:10:53.778379Z",
     "start_time": "2021-01-12T19:10:53.774271Z"
    }
   },
   "outputs": [
    {
     "data": {
      "text/plain": [
       "{'green'}"
      ]
     },
     "execution_count": 4,
     "metadata": {},
     "output_type": "execute_result"
    }
   ],
   "source": [
    "A = {'yellow', 'green', 'brown'}\n",
    "B = {'blue', 'red', 'green', 'purple'}\n",
    "\n",
    "A_intersection_B = A.intersection(B)\n",
    "A_intersection_B"
   ]
  },
  {
   "cell_type": "markdown",
   "metadata": {},
   "source": [
    "**Creating the one sided difference between two sets**\n",
    "<img src=\"../../static/difference.png\" style=\"width:300px;\">\n",
    "In the cell below, we find the difference of two sets by removing all values in B from A."
   ]
  },
  {
   "cell_type": "code",
   "execution_count": 5,
   "metadata": {
    "ExecuteTime": {
     "end_time": "2021-01-12T19:11:22.242532Z",
     "start_time": "2021-01-12T19:11:22.238051Z"
    }
   },
   "outputs": [
    {
     "data": {
      "text/plain": [
       "{'brown', 'yellow'}"
      ]
     },
     "execution_count": 5,
     "metadata": {},
     "output_type": "execute_result"
    }
   ],
   "source": [
    "A = {'yellow', 'green', 'brown'}\n",
    "B = {'blue', 'red', 'green', 'purple'}\n",
    "\n",
    "A_difference_B = A.difference(B)\n",
    "A_difference_B"
   ]
  },
  {
   "cell_type": "markdown",
   "metadata": {},
   "source": [
    "**Create the symmetrical difference set of two sets**\n",
    "<img src=\"../../static/symmetric_difference.png\" style=\"width:300px;\">\n",
    "\n",
    "In the cell below, we find the symmetrical difference of A and B using the `.symmetrical_difference()` method."
   ]
  },
  {
   "cell_type": "code",
   "execution_count": 6,
   "metadata": {
    "ExecuteTime": {
     "end_time": "2021-01-12T19:11:54.054053Z",
     "start_time": "2021-01-12T19:11:54.048400Z"
    }
   },
   "outputs": [
    {
     "data": {
      "text/plain": [
       "{'blue', 'brown', 'purple', 'red', 'yellow'}"
      ]
     },
     "execution_count": 6,
     "metadata": {},
     "output_type": "execute_result"
    }
   ],
   "source": [
    "A = {'yellow', 'green', 'brown'}\n",
    "B = {'blue', 'red', 'green', 'purple'}\n",
    "\n",
    "A_symmetrical_difference_B = A.symmetric_difference(B)\n",
    "A_symmetrical_difference_B"
   ]
  },
  {
   "cell_type": "markdown",
   "metadata": {},
   "source": [
    "**This can also be done by removing the intersection of the union!**"
   ]
  },
  {
   "cell_type": "code",
   "execution_count": 7,
   "metadata": {
    "ExecuteTime": {
     "end_time": "2021-01-12T19:12:28.695836Z",
     "start_time": "2021-01-12T19:12:28.691699Z"
    }
   },
   "outputs": [
    {
     "data": {
      "text/plain": [
       "{'blue', 'brown', 'purple', 'red', 'yellow'}"
      ]
     },
     "execution_count": 7,
     "metadata": {},
     "output_type": "execute_result"
    }
   ],
   "source": [
    "A.union(B).difference(A.intersection(B))"
   ]
  },
  {
   "cell_type": "markdown",
   "metadata": {},
   "source": [
    "## Coming back to Probability\n",
    "\n",
    "Repeated experiments (all done within an identical environment) are the core elements used in probability. The set of all possible outcomes for an experiment is considered the **sample space**\n",
    "\n",
    "Flipping a coin once is an experiment with a sample space of 2 possible outcomes.\n",
    "\n",
    "Rolling a six sided die is an experiment with a sample space of 6 possible outcomes.\n",
    "\n",
    "Rolling two six sided dice once is an experiment with 36 possible outcomes.\n",
    "\n",
    "An event is a defined subspace of the sample space for an experiment. For example, an event could be all dice rolls that sum to three, which would be {(1,2), (2,1)}.\n",
    "\n",
    "![](images/two_dice_table.png)"
   ]
  },
  {
   "cell_type": "markdown",
   "metadata": {},
   "source": [
    "**The probability of an event is the ratio of the number of outcomes within the event subspace to the number of total outcomes within the sample space. It is commonly represented as a decimal between 0 & 1**\n",
    "> Thus the probability for rolling two dice that sum to 3 would be 2/36 or approximately .06."
   ]
  },
  {
   "cell_type": "markdown",
   "metadata": {},
   "source": [
    "------\n",
    "<center><img src=\"../../static/probability.png\" style=\"width:800px;\"></center>\n",
    "<br>\n",
    "<br>\n",
    "\n",
    "-----\n",
    "<br>\n",
    "<br>\n",
    "<center><img src=\"../../static/probability_scale.jpg\" style=\"width:800px;\"></center>\n",
    "\n",
    "-----\n"
   ]
  },
  {
   "cell_type": "markdown",
   "metadata": {},
   "source": [
    "## Independent Probability"
   ]
  },
  {
   "cell_type": "markdown",
   "metadata": {},
   "source": [
    "### Coin Flip"
   ]
  },
  {
   "cell_type": "markdown",
   "metadata": {},
   "source": [
    "#### Let's say we have a fair, two sided, coin.\n",
    "\n",
    "<center><img src=\"../../static/heads_or_tails.jpg\" style=\"width:500px;\"></center>"
   ]
  },
  {
   "cell_type": "markdown",
   "metadata": {},
   "source": [
    "**Below, we flip the coin.**"
   ]
  },
  {
   "cell_type": "code",
   "execution_count": 8,
   "metadata": {
    "ExecuteTime": {
     "end_time": "2021-01-12T19:17:12.550376Z",
     "start_time": "2021-01-12T19:17:12.545826Z"
    }
   },
   "outputs": [
    {
     "data": {
      "text/plain": [
       "'TAILS'"
      ]
     },
     "execution_count": 8,
     "metadata": {},
     "output_type": "execute_result"
    }
   ],
   "source": [
    "flip()"
   ]
  },
  {
   "cell_type": "markdown",
   "metadata": {},
   "source": [
    "**When we flip the coin, there are two possibilities:**\n",
    "1. HEADS\n",
    "2. TAILS\n",
    "\n",
    "When we flip the coin, what is the probability that the coin lands on \"HEADS\"?"
   ]
  },
  {
   "cell_type": "code",
   "execution_count": 9,
   "metadata": {
    "ExecuteTime": {
     "end_time": "2021-01-12T05:34:18.716335Z",
     "start_time": "2021-01-12T05:34:18.713990Z"
    }
   },
   "outputs": [
    {
     "data": {
      "text/plain": [
       "0.5"
      ]
     },
     "execution_count": 9,
     "metadata": {},
     "output_type": "execute_result"
    }
   ],
   "source": [
    "# Your answer here\n",
    "heads_probability = 1/2\n",
    "heads_probability"
   ]
  },
  {
   "cell_type": "markdown",
   "metadata": {},
   "source": [
    "Given the probability of heads, if the coin were to land on tails, is it reasonable to say that next flip should land on heads?"
   ]
  },
  {
   "cell_type": "markdown",
   "metadata": {},
   "source": [
    "No. Separate flips of a coin are considered *Independent* which means that the outcome of one experiment has no impact on the outcome for following experiments. Additionally, probability does not seek to make predictions for individual trials, but seeks to measure the frequency of events across many trials. We could flip a coin 10 times and land on tails 7, and head 3 times but it does not mean that the overall probability of landing on tails is necessarily greater than .5. But, if we were to do 100 or 1000 trials, and found a similar outcome, this could be could suggest that the coin may be unfair. "
   ]
  },
  {
   "cell_type": "markdown",
   "metadata": {},
   "source": [
    "Let's run the experiment 5000 times and evaluate the results!"
   ]
  },
  {
   "cell_type": "code",
   "execution_count": 10,
   "metadata": {
    "ExecuteTime": {
     "end_time": "2021-01-12T19:20:24.007594Z",
     "start_time": "2021-01-12T19:20:23.557526Z"
    }
   },
   "outputs": [
    {
     "data": {
      "image/png": "[encoded data removed]",
      "text/plain": [
       "<Figure size 432x288 with 1 Axes>"
      ]
     },
     "metadata": {
      "needs_background": "light"
     },
     "output_type": "display_data"
    }
   ],
   "source": [
    "results = []\n",
    "for i in range(5000):\n",
    "    coin_flip = flip()\n",
    "    results.append(coin_flip)\n",
    "results = pd.Series(results)\n",
    "series = results.value_counts()\n",
    "plt.bar(series.index, series.values);"
   ]
  },
  {
   "cell_type": "markdown",
   "metadata": {},
   "source": [
    "If we look at the results:"
   ]
  },
  {
   "cell_type": "code",
   "execution_count": 11,
   "metadata": {
    "ExecuteTime": {
     "end_time": "2021-01-12T19:20:44.765210Z",
     "start_time": "2021-01-12T19:20:44.759015Z"
    },
    "run_control": {
     "marked": false
    }
   },
   "outputs": [
    {
     "data": {
      "text/plain": [
       "['TAILS',\n",
       " 'HEADS',\n",
       " 'HEADS',\n",
       " 'TAILS',\n",
       " 'HEADS',\n",
       " 'HEADS',\n",
       " 'TAILS',\n",
       " 'TAILS',\n",
       " 'TAILS',\n",
       " 'HEADS',\n",
       " 'HEADS',\n",
       " 'TAILS',\n",
       " 'TAILS',\n",
       " 'HEADS',\n",
       " 'TAILS',\n",
       " 'TAILS',\n",
       " 'TAILS',\n",
       " 'TAILS',\n",
       " 'HEADS',\n",
       " 'HEADS',\n",
       " 'HEADS',\n",
       " 'TAILS',\n",
       " 'HEADS',\n",
       " 'TAILS',\n",
       " 'HEADS',\n",
       " 'TAILS',\n",
       " 'TAILS',\n",
       " 'TAILS',\n",
       " 'HEADS',\n",
       " 'TAILS',\n",
       " 'TAILS',\n",
       " 'TAILS',\n",
       " 'HEADS',\n",
       " 'TAILS',\n",
       " 'TAILS',\n",
       " 'HEADS',\n",
       " 'TAILS',\n",
       " 'TAILS',\n",
       " 'TAILS',\n",
       " 'HEADS',\n",
       " 'HEADS',\n",
       " 'TAILS',\n",
       " 'HEADS',\n",
       " 'TAILS',\n",
       " 'TAILS',\n",
       " 'TAILS',\n",
       " 'TAILS',\n",
       " 'TAILS',\n",
       " 'HEADS',\n",
       " 'TAILS',\n",
       " 'HEADS',\n",
       " 'HEADS',\n",
       " 'HEADS',\n",
       " 'HEADS',\n",
       " 'TAILS',\n",
       " 'HEADS',\n",
       " 'HEADS',\n",
       " 'TAILS',\n",
       " 'TAILS',\n",
       " 'HEADS',\n",
       " 'HEADS',\n",
       " 'HEADS',\n",
       " 'TAILS',\n",
       " 'HEADS',\n",
       " 'TAILS',\n",
       " 'HEADS',\n",
       " 'TAILS',\n",
       " 'TAILS',\n",
       " 'TAILS',\n",
       " 'HEADS',\n",
       " 'TAILS',\n",
       " 'TAILS',\n",
       " 'HEADS',\n",
       " 'HEADS',\n",
       " 'TAILS',\n",
       " 'TAILS',\n",
       " 'TAILS',\n",
       " 'HEADS',\n",
       " 'HEADS',\n",
       " 'HEADS',\n",
       " 'HEADS',\n",
       " 'TAILS',\n",
       " 'TAILS',\n",
       " 'TAILS',\n",
       " 'HEADS',\n",
       " 'HEADS',\n",
       " 'TAILS',\n",
       " 'TAILS',\n",
       " 'HEADS',\n",
       " 'TAILS',\n",
       " 'TAILS',\n",
       " 'TAILS',\n",
       " 'TAILS',\n",
       " 'HEADS',\n",
       " 'TAILS',\n",
       " 'TAILS',\n",
       " 'HEADS',\n",
       " 'TAILS',\n",
       " 'HEADS',\n",
       " 'HEADS']"
      ]
     },
     "execution_count": 11,
     "metadata": {},
     "output_type": "execute_result"
    }
   ],
   "source": [
    "results.to_list()[:100]"
   ]
  },
  {
   "cell_type": "markdown",
   "metadata": {},
   "source": [
    "We can see examples of HEADS AND TAILS repeating, but across 5,000 trials the probability of both outcomes approaches 50%."
   ]
  },
  {
   "cell_type": "markdown",
   "metadata": {},
   "source": [
    "**Let's say we flip a coin 4 times. What is the probability that a heads never occurs?**\n",
    "\n",
    "First, we need to answer: *How many possibilities are in the sample space?*\n",
    "\n",
    "Second, we need to answer: *How many possibilities match our conditions?*"
   ]
  },
  {
   "cell_type": "code",
   "execution_count": 12,
   "metadata": {
    "ExecuteTime": {
     "end_time": "2021-01-12T19:24:55.943854Z",
     "start_time": "2021-01-12T19:24:55.931863Z"
    }
   },
   "outputs": [
    {
     "data": {
      "text/plain": [
       "0.0625"
      ]
     },
     "execution_count": 12,
     "metadata": {},
     "output_type": "execute_result"
    }
   ],
   "source": [
    "# Your code here\n",
    "sample_space = 2*2*2*2\n",
    "matching_conditions = 1\n",
    "\n",
    "probability = matching_conditions/sample_space\n",
    "probability"
   ]
  },
  {
   "cell_type": "markdown",
   "metadata": {},
   "source": [
    "### The principal of additivity"
   ]
  },
  {
   "cell_type": "markdown",
   "metadata": {},
   "source": [
    "What if we wanted to determine the probability of flipping a coin 4 times and landing on Heads *at most* 1 time?\n",
    "\n",
    "There are 5 possibilities that meet these conditions\n",
    "1. TTTT\n",
    "2. HTTT\n",
    "3. THTT\n",
    "4. TTHT\n",
    "5. TTTH\n",
    "\n",
    "This subspace of events can be considered the union of the subspace for outcomes that produce no heads with the subspace that produces *at most* 1 heads. \n",
    "\n",
    "P(No heads ∪ At most one heads)\n",
    "\n",
    "**The principal of additivity** states that if two events do not share any outcomes, (There is no intersection) the the probability of the union of the two events is the sum of the two events.\n",
    "\n",
    "P(No Heads) = 1/16\n",
    "\n",
    "P(At most one Heads) = 1/16 + 1/16 + 1/16 + 1/16 = 4/16\n",
    "\n",
    "P(No heads ∪ At most one heads) = P(No Heads) + P(At most one Heads) = 1/16 + 4/16 = 5/16"
   ]
  },
  {
   "cell_type": "code",
   "execution_count": null,
   "metadata": {
    "ExecuteTime": {
     "end_time": "2021-01-12T19:29:32.155194Z",
     "start_time": "2021-01-12T19:29:32.139348Z"
    }
   },
   "outputs": [],
   "source": [
    "sample_space = 2**4\n",
    "matching_conditions = 4 + 1\n",
    "probability = matching_conditions/sample_space\n",
    "\n",
    "probability"
   ]
  },
  {
   "cell_type": "markdown",
   "metadata": {},
   "source": [
    "### Die Roll"
   ]
  },
  {
   "cell_type": "markdown",
   "metadata": {},
   "source": [
    "**Let's say we have a single six sided die**\n",
    "<center><img src=\"../../static/die.jpg\" style=\"width:250px;\"></center>"
   ]
  },
  {
   "cell_type": "markdown",
   "metadata": {},
   "source": [
    "**We can roll the die:**"
   ]
  },
  {
   "cell_type": "code",
   "execution_count": 13,
   "metadata": {
    "ExecuteTime": {
     "end_time": "2021-01-12T19:30:45.900552Z",
     "start_time": "2021-01-12T19:30:45.895213Z"
    }
   },
   "outputs": [
    {
     "data": {
      "text/plain": [
       "2"
      ]
     },
     "execution_count": 13,
     "metadata": {},
     "output_type": "execute_result"
    }
   ],
   "source": [
    "roll()"
   ]
  },
  {
   "cell_type": "markdown",
   "metadata": {},
   "source": [
    "***Please answer the following questions:***\n",
    "\n",
    "1. What is the probability of rolling a 4? 1/6\n",
    "2. What is the probability of rolling a 5 or a 3? 2/6\n",
    "3. What is the probability of rolling an even number? 3/6\n",
    "4. What is the probability of rolling a 2, 3, 4, or 5? 2/6\n",
    "5. What is the probability of rolling a 1 and a 6? 1/3*1/3= 1/6"
   ]
  },
  {
   "cell_type": "code",
   "execution_count": 18,
   "metadata": {
    "ExecuteTime": {
     "end_time": "2021-01-12T05:34:26.560199Z",
     "start_time": "2021-01-12T05:34:26.557425Z"
    }
   },
   "outputs": [],
   "source": [
    "# Your code here\n",
    "one = 1/6\n",
    "two = 2/6\n",
    "three = 3/6\n",
    "four = 1/6+1/6+1/6+1/6\n",
    "five = 0"
   ]
  },
  {
   "cell_type": "markdown",
   "metadata": {},
   "source": [
    "### Marble Draw"
   ]
  },
  {
   "cell_type": "markdown",
   "metadata": {},
   "source": [
    "Let's say we have a bag with 7 marbles in it."
   ]
  },
  {
   "cell_type": "code",
   "execution_count": 19,
   "metadata": {
    "ExecuteTime": {
     "end_time": "2021-01-12T19:40:42.899271Z",
     "start_time": "2021-01-12T19:40:42.885461Z"
    }
   },
   "outputs": [
    {
     "data": {
      "text/plain": [
       "['yellow', 'yellow', 'green', 'green', 'blue', 'blue', 'red']"
      ]
     },
     "execution_count": 19,
     "metadata": {},
     "output_type": "execute_result"
    }
   ],
   "source": [
    "marble_bag = DrawAMarble()\n",
    "marble_bag.marbles"
   ]
  },
  {
   "cell_type": "markdown",
   "metadata": {},
   "source": [
    "1. What is the probability of drawing a green marble?\n",
    "2. What is the probability of drawing a yellow or red marble?"
   ]
  },
  {
   "cell_type": "code",
   "execution_count": null,
   "metadata": {},
   "outputs": [],
   "source": [
    "# Your code here\n",
    "one = 2/7\n",
    "two = 3/7"
   ]
  },
  {
   "cell_type": "markdown",
   "metadata": {},
   "source": [
    "**What if two independent events share outcomes?**\n",
    "\n",
    "This is sort of arbitrary, but what if we wanted to know the probability of drawing a marble from the union of the set for green outcomes with the set christmas colors.\n",
    "\n",
    "P({green} ∪ {christmas colors}) \n",
    "\n",
    "1. How many elements are in the first set?\n",
    "2. How many elements are in the second set?\n",
    "3. How many outcomes match our conditions?\n",
    "4. What is the probability for our event space?\n",
    "\n"
   ]
  },
  {
   "cell_type": "code",
   "execution_count": null,
   "metadata": {},
   "outputs": [],
   "source": [
    "one = 2\n",
    "two = 3\n",
    "three = 3\n",
    "four = 2/3"
   ]
  },
  {
   "cell_type": "markdown",
   "metadata": {},
   "source": [
    "## Dependent Probability"
   ]
  },
  {
   "cell_type": "markdown",
   "metadata": {},
   "source": [
    "Let's stick with our bag of marbles.\n",
    "\n",
    "The probability of drawing a yellow marble is currently 2/7"
   ]
  },
  {
   "cell_type": "code",
   "execution_count": 20,
   "metadata": {
    "ExecuteTime": {
     "end_time": "2021-01-12T20:15:21.057134Z",
     "start_time": "2021-01-12T20:15:21.053402Z"
    }
   },
   "outputs": [
    {
     "data": {
      "text/plain": [
       "0.2857142857142857"
      ]
     },
     "execution_count": 20,
     "metadata": {},
     "output_type": "execute_result"
    }
   ],
   "source": [
    "yellow = 2/7\n",
    "yellow"
   ]
  },
  {
   "cell_type": "markdown",
   "metadata": {},
   "source": [
    "Let's say we draw a yellow marble from the bag:"
   ]
  },
  {
   "cell_type": "code",
   "execution_count": 21,
   "metadata": {
    "ExecuteTime": {
     "end_time": "2021-01-12T20:14:40.470078Z",
     "start_time": "2021-01-12T20:14:40.454848Z"
    }
   },
   "outputs": [
    {
     "data": {
      "text/plain": [
       "'yellow'"
      ]
     },
     "execution_count": 21,
     "metadata": {},
     "output_type": "execute_result"
    }
   ],
   "source": [
    "marble_bag.marbles.pop(0)"
   ]
  },
  {
   "cell_type": "markdown",
   "metadata": {
    "ExecuteTime": {
     "end_time": "2021-01-12T05:31:32.942237Z",
     "start_time": "2021-01-12T05:31:32.939139Z"
    }
   },
   "source": [
    "Now that we have drawn a yellow marble *without replacement*, our marble bag looks different."
   ]
  },
  {
   "cell_type": "code",
   "execution_count": 22,
   "metadata": {
    "ExecuteTime": {
     "end_time": "2021-01-12T20:14:46.912483Z",
     "start_time": "2021-01-12T20:14:46.908609Z"
    }
   },
   "outputs": [
    {
     "data": {
      "text/plain": [
       "['yellow', 'green', 'green', 'blue', 'blue', 'red']"
      ]
     },
     "execution_count": 22,
     "metadata": {},
     "output_type": "execute_result"
    }
   ],
   "source": [
    "marble_bag.marbles"
   ]
  },
  {
   "cell_type": "markdown",
   "metadata": {},
   "source": [
    "The probability of drawing a yellow marble from the bag is now:\n",
    "\n",
    "P(Y) = P(Y-1)/n-1"
   ]
  },
  {
   "cell_type": "code",
   "execution_count": 23,
   "metadata": {
    "ExecuteTime": {
     "end_time": "2021-01-12T20:15:13.526098Z",
     "start_time": "2021-01-12T20:15:13.521967Z"
    }
   },
   "outputs": [
    {
     "data": {
      "text/plain": [
       "0.16666666666666666"
      ]
     },
     "execution_count": 23,
     "metadata": {},
     "output_type": "execute_result"
    }
   ],
   "source": [
    "marble_bag.marbles.count('yellow')/len(marble_bag.marbles)"
   ]
  },
  {
   "cell_type": "markdown",
   "metadata": {},
   "source": [
    "### The Multiplication Principal\n",
    "\n",
    "**The Multiplication Principal** states: If an event can occur in m ways and a following event can occur in n ways, then the two events can occur in m*n ways.\n",
    "\n",
    "This means we can calculate the probability of two consecutive yellow draws as P(YY) = P(Y) * P(Y-1)"
   ]
  },
  {
   "cell_type": "code",
   "execution_count": 24,
   "metadata": {
    "ExecuteTime": {
     "end_time": "2021-01-12T20:16:28.153353Z",
     "start_time": "2021-01-12T20:16:28.149498Z"
    }
   },
   "outputs": [
    {
     "data": {
      "text/plain": [
       "0.047619047619047616"
      ]
     },
     "execution_count": 24,
     "metadata": {},
     "output_type": "execute_result"
    }
   ],
   "source": [
    "first_yellow = 2/7\n",
    "second_yellow = 1/6\n",
    "probability = first_yellow * second_yellow\n",
    "probability"
   ]
  },
  {
   "cell_type": "markdown",
   "metadata": {},
   "source": [
    "**Rolling two even die**\n",
    "\n",
    "|   \t| 1    \t| 2    \t| 3    \t| 4    \t| 5    \t| 6    \t|\n",
    "|---\t|------\t|------\t|------\t|------\t|------\t|------\t|\n",
    "| 1 \t| .027 \t| .027 \t| .027 \t| .027 \t| .027 \t| .027 \t|\n",
    "| 2 \t| .027 \t| .027 \t| .027 \t| .027 \t| .027 \t| .027 \t|\n",
    "| 3 \t| .027 \t| .027 \t| .027 \t| .027 \t| .027 \t| .027 \t|\n",
    "| 4 \t| .027 \t| .027 \t| .027 \t| .027 \t| .027 \t| .027 \t|\n",
    "| 5 \t| .027 \t| .027 \t| .027 \t| .027 \t| .027 \t| .027 \t|\n",
    "| 6 \t| .027 \t| .027 \t| .027 \t| .027 \t| .027 \t| .027 \t|"
   ]
  },
  {
   "cell_type": "markdown",
   "metadata": {},
   "source": [
    "What is the probability of rolling two even numbers with two dice?"
   ]
  },
  {
   "cell_type": "code",
   "execution_count": 25,
   "metadata": {
    "ExecuteTime": {
     "end_time": "2021-01-12T06:04:20.445808Z",
     "start_time": "2021-01-12T06:04:20.443286Z"
    }
   },
   "outputs": [
    {
     "data": {
      "text/plain": [
       "0.25"
      ]
     },
     "execution_count": 25,
     "metadata": {},
     "output_type": "execute_result"
    }
   ],
   "source": [
    "# Your code here\n",
    "9/36"
   ]
  },
  {
   "cell_type": "code",
   "execution_count": 26,
   "metadata": {},
   "outputs": [
    {
     "data": {
      "text/plain": [
       "0.25"
      ]
     },
     "execution_count": 26,
     "metadata": {},
     "output_type": "execute_result"
    }
   ],
   "source": [
    "1/2*1/2"
   ]
  },
  {
   "cell_type": "markdown",
   "metadata": {},
   "source": [
    "**Unfair Coins**"
   ]
  },
  {
   "cell_type": "markdown",
   "metadata": {
    "ExecuteTime": {
     "end_time": "2021-01-10T18:15:57.622423Z",
     "start_time": "2021-01-10T18:15:57.617831Z"
    }
   },
   "source": [
    "We have a bag with 7 coins in it. 2 of them are unfair, with a 60% chance of landing on heads. You randomly select a coin from the bag and flip it three times. What is the probability of the coin landing on tails three times?\n",
    "\n",
    "\n",
    "P({TTT ∩ unfair_coin} ∪ {TTT ∩ fair_coin})"
   ]
  },
  {
   "cell_type": "code",
   "execution_count": 27,
   "metadata": {
    "ExecuteTime": {
     "end_time": "2021-01-12T20:21:20.053799Z",
     "start_time": "2021-01-12T20:21:20.048452Z"
    }
   },
   "outputs": [
    {
     "data": {
      "text/plain": [
       "0.10757142857142858"
      ]
     },
     "execution_count": 27,
     "metadata": {},
     "output_type": "execute_result"
    }
   ],
   "source": [
    "unfair_tails_probability = .4\n",
    "fair_tails_probability = .5\n",
    "(unfair_tails_probability ** 3 * 2/7) + (fair_tails_probability ** 3 * 5/7)"
   ]
  },
  {
   "cell_type": "markdown",
   "metadata": {},
   "source": [
    "## Permutations and Combinations\n",
    "\n",
    "Permutations and combinations are techniques for identifying the different groupings that can be made from a sample space. Permutations are when the order of the group is important, combinations are when the order does not matter.\n",
    "\n",
    "If we were to identify groupings of size three from the sample space {A,B,C,D, E} where the order of the groups is relevant, and without replacement, the following 20 outcomes are possible:\n",
    "\n",
    "`AB AC AD AE\n",
    "BA BC BD BE\n",
    "CA CB CD CE\n",
    "DA DB DC DE\n",
    "EA EB EC ED`\n",
    "\n",
    "\n",
    "\n",
    "This can be read as $_5P_2$ or \"5 permute 2\"\n",
    "\n",
    "The generalized formula for permutations is as follows:\n",
    "![](images/permutation.png)\n",
    "\n",
    "Where $n$=The number of options and $k$=The size of the groupings.\n",
    "\n",
    "$n!$ represents n factorial, which indicates all the positive integers from 1 up to and including n are multiplied together. The same can be said about $k!$\n",
    "\n",
    "-----"
   ]
  },
  {
   "cell_type": "code",
   "execution_count": 28,
   "metadata": {
    "ExecuteTime": {
     "end_time": "2021-01-12T20:33:09.528721Z",
     "start_time": "2021-01-12T20:33:09.521249Z"
    }
   },
   "outputs": [
    {
     "data": {
      "text/plain": [
       "20.0"
      ]
     },
     "execution_count": 28,
     "metadata": {},
     "output_type": "execute_result"
    }
   ],
   "source": [
    "5*4*3*2*1/(3*2*1)"
   ]
  },
  {
   "cell_type": "markdown",
   "metadata": {},
   "source": [
    "Five people are going on a road trip. Their car has 5 seats. The plan is to rotate who drives, who navigates, and who chills. How many different orderings are possible for the 5 people?\n",
    "\n",
    "If we place a person in seat 1, then there are 4 possibilities for seat 2, 3 possibilities for seat 3, and so on. This is an example of a **factorial**.\n",
    "\n",
    "The answer to this question is $5!$"
   ]
  },
  {
   "cell_type": "code",
   "execution_count": 29,
   "metadata": {
    "ExecuteTime": {
     "end_time": "2021-01-12T20:35:35.465388Z",
     "start_time": "2021-01-12T20:35:35.460878Z"
    }
   },
   "outputs": [
    {
     "data": {
      "text/plain": [
       "120"
      ]
     },
     "execution_count": 29,
     "metadata": {},
     "output_type": "execute_result"
    }
   ],
   "source": [
    "from math import factorial\n",
    "\n",
    "factorial(5)"
   ]
  },
  {
   "cell_type": "code",
   "execution_count": null,
   "metadata": {
    "ExecuteTime": {
     "end_time": "2021-01-12T20:35:54.129078Z",
     "start_time": "2021-01-12T20:35:54.111556Z"
    }
   },
   "outputs": [],
   "source": [
    "from itertools import permutations\n",
    "\n",
    "count = 0\n",
    "for order in permutations(['Person 1', 'Person 2', 'Person 3', 'Person 4', 'Person 5']):\n",
    "    count += 1\n",
    "    print(' '.join(order))\n",
    "print('==============================================')    \n",
    "print(f'There are {count} possible orders!')"
   ]
  },
  {
   "cell_type": "markdown",
   "metadata": {},
   "source": [
    "Now let's say, we need to use two of the seats for luggage. We now have 5 people and 3 seats. How many orderings are possible?"
   ]
  },
  {
   "cell_type": "code",
   "execution_count": 30,
   "metadata": {
    "ExecuteTime": {
     "end_time": "2021-01-12T20:36:28.331706Z",
     "start_time": "2021-01-12T20:36:28.325915Z"
    }
   },
   "outputs": [
    {
     "data": {
      "text/plain": [
       "60.0"
      ]
     },
     "execution_count": 30,
     "metadata": {},
     "output_type": "execute_result"
    }
   ],
   "source": [
    "factorial(5)/factorial(5-3)"
   ]
  },
  {
   "cell_type": "code",
   "execution_count": 31,
   "metadata": {
    "ExecuteTime": {
     "end_time": "2021-01-12T20:36:51.957713Z",
     "start_time": "2021-01-12T20:36:51.953807Z"
    }
   },
   "outputs": [
    {
     "data": {
      "text/plain": [
       "60"
      ]
     },
     "execution_count": 31,
     "metadata": {},
     "output_type": "execute_result"
    }
   ],
   "source": [
    "5*4*3"
   ]
  },
  {
   "cell_type": "markdown",
   "metadata": {},
   "source": [
    "## Combinations"
   ]
  },
  {
   "cell_type": "markdown",
   "metadata": {},
   "source": [
    "In the above example, we determine how many different seating arrangements can exist for the 5 people. But from a practical point of view, we would likely be more interested in the question \"How many different groups could we seat within this car?\"\n",
    "\n",
    "When we find the permutations for $_5P_3$, for the grouping of `P1, P2, P3` we would have 3 factorial possibilities:\n",
    "``P1 P2 P3\n",
    "P1 P3 P2\n",
    "P2 P1 P3\n",
    "P2 P3 P1\n",
    "P3 P1 P2\n",
    "P3 P2 P1``\n",
    "\n",
    "\n",
    "But these different permutations are all the same three people! Because of this, to find the *unique* groups, you must add $k$ factorial to the denominator.\n",
    "\n",
    "<img src=\"../../static/combinations.png\" style=\"width:400px;\">"
   ]
  },
  {
   "cell_type": "code",
   "execution_count": 32,
   "metadata": {
    "ExecuteTime": {
     "end_time": "2021-01-12T20:45:15.248717Z",
     "start_time": "2021-01-12T20:45:15.243662Z"
    }
   },
   "outputs": [
    {
     "data": {
      "text/plain": [
       "10.0"
      ]
     },
     "execution_count": 32,
     "metadata": {},
     "output_type": "execute_result"
    }
   ],
   "source": [
    "factorial(5)/(factorial(3) * factorial(5-3))"
   ]
  },
  {
   "cell_type": "code",
   "execution_count": 33,
   "metadata": {
    "ExecuteTime": {
     "end_time": "2021-01-12T20:46:24.781016Z",
     "start_time": "2021-01-12T20:46:24.774048Z"
    }
   },
   "outputs": [
    {
     "data": {
      "text/plain": [
       "10.0"
      ]
     },
     "execution_count": 33,
     "metadata": {},
     "output_type": "execute_result"
    }
   ],
   "source": [
    "5*4*3/(3*2*1)"
   ]
  },
  {
   "cell_type": "markdown",
   "metadata": {},
   "source": [
    "## Combinatorics with Probability"
   ]
  },
  {
   "cell_type": "markdown",
   "metadata": {},
   "source": [
    "What is the probability of a coin landing exactly 6 times on heads out of 14 flips?"
   ]
  },
  {
   "cell_type": "code",
   "execution_count": 34,
   "metadata": {
    "ExecuteTime": {
     "end_time": "2021-01-12T20:55:07.149721Z",
     "start_time": "2021-01-12T20:55:07.143640Z"
    }
   },
   "outputs": [
    {
     "data": {
      "text/plain": [
       "0.18328857421875"
      ]
     },
     "execution_count": 34,
     "metadata": {},
     "output_type": "execute_result"
    }
   ],
   "source": [
    "possible_outcomes = 2**14\n",
    "matching_outcomes = 14*13*12*11*10*9/(factorial(6))\n",
    "probability = matching_outcomes/possible_outcomes\n",
    "probability"
   ]
  },
  {
   "cell_type": "markdown",
   "metadata": {},
   "source": [
    "#### The Birthday Problem"
   ]
  },
  {
   "cell_type": "markdown",
   "metadata": {},
   "source": [
    "If we have 40 people in a room, what is the probability that at least 2 people share the same birthday?"
   ]
  },
  {
   "cell_type": "code",
   "execution_count": null,
   "metadata": {
    "ExecuteTime": {
     "end_time": "2021-01-12T20:57:05.275648Z",
     "start_time": "2021-01-12T20:57:05.270717Z"
    }
   },
   "outputs": [],
   "source": [
    "probability_of_no_shared_birthdays = factorial(365)/(365**40 * factorial(365-40))\n",
    "probability_of_shared_birthday = 1-probability_of_no_shared_birthdays\n",
    "probability_of_shared_birthday"
   ]
  }
 ],
 "metadata": {
  "kernelspec": {
   "display_name": "Python 3",
   "language": "python",
   "name": "python3"
  },
  "language_info": {
   "codemirror_mode": {
    "name": "ipython",
    "version": 3
   },
   "file_extension": ".py",
   "mimetype": "text/x-python",
   "name": "python",
   "nbconvert_exporter": "python",
   "pygments_lexer": "ipython3",
   "version": "3.8.3"
  },
  "toc": {
   "base_numbering": 1,
   "nav_menu": {},
   "number_sections": false,
   "sideBar": true,
   "skip_h1_title": true,
   "title_cell": "Table of Contents",
   "title_sidebar": "Contents",
   "toc_cell": false,
   "toc_position": {},
   "toc_section_display": true,
   "toc_window_display": false
  },
  "varInspector": {
   "cols": {
    "lenName": 16,
    "lenType": 16,
    "lenVar": 40
   },
   "kernels_config": {
    "python": {
     "delete_cmd_postfix": "",
     "delete_cmd_prefix": "del ",
     "library": "var_list.py",
     "varRefreshCmd": "print(var_dic_list())"
    },
    "r": {
     "delete_cmd_postfix": ") ",
     "delete_cmd_prefix": "rm(",
     "library": "var_list.r",
     "varRefreshCmd": "cat(var_dic_list()) "
    }
   },
   "types_to_exclude": [
    "module",
    "function",
    "builtin_function_or_method",
    "instance",
    "_Feature"
   ],
   "window_display": false
  }
 },
 "nbformat": 4,
 "nbformat_minor": 4
}
